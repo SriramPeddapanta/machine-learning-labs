{
  "cells": [
    {
      "cell_type": "markdown",
      "metadata": {},
      "source": [
        "# Exercise: Datasets in Python\n",
        "\n",
        "In the previous exercise, we loaded some data and fit a model to it. Several aspects of this were simplified, particularly that the data was hard-coded into our python script, and we didn't spend any time really looking at the data itself.\n",
        "\n",
        "Here, we load data from a file, filter it, and graph it. Doing so is a very important first step in order to build proper models or to understand their limitations.\n",
        "\n",
        "As before, there's no need to edit any code in this unit's examples. Try to read it, understand it, then press the **Run** button to run it. As always, it's vitally important that these code blocks are run in the correct order, and nothing is missed.\n",
        "\n",
        "## Load data with Pandas\n",
        "\n",
        "There are various libraries that help you work with data. In Python, one of the most common libraries is *Pandas*. We used pandas briefly in the previous exercise. Pandas can open data saved as text files and store it in an organized table called a `DataFrame`.\n",
        "\n",
        "Let's open some text data that's stored on disk. Our data is saved in a file called `doggy-boot-harness.csv`.\n"
      ]
    },
    {
      "cell_type": "code",
      "execution_count": 1,
      "metadata": {},
      "outputs": [
        {
          "name": "stdout",
          "output_type": "stream",
          "text": [
            "Downloading graphing.py...\n",
            "Downloaded graphing.py successfully!\n",
            "Downloading doggy-boot-harness.csv...\n",
            "Downloaded doggy-boot-harness.csv successfully!\n"
          ]
        }
      ],
      "source": [
        "import requests\n",
        "\n",
        "# URLs of the files to download\n",
        "urls = [\n",
        "    \"https://raw.githubusercontent.com/MicrosoftDocs/mslearn-introduction-to-machine-learning/main/graphing.py\",\n",
        "    \"https://raw.githubusercontent.com/MicrosoftDocs/mslearn-introduction-to-machine-learning/main/Data/doggy-boot-harness.csv\"\n",
        "]\n",
        "\n",
        "# File names to save the downloaded content\n",
        "file_names = [\n",
        "    \"graphing.py\",\n",
        "    \"doggy-boot-harness.csv\"\n",
        "]\n",
        "\n",
        "# Loop through the URLs and download the files\n",
        "for url, file_name in zip(urls, file_names):\n",
        "    print(f\"Downloading {file_name}...\")\n",
        "    response = requests.get(url)\n",
        "    if response.status_code == 200:\n",
        "        with open(file_name, \"wb\") as file:\n",
        "            file.write(response.content)\n",
        "        print(f\"Downloaded {file_name} successfully!\")\n",
        "    else:\n",
        "        print(f\"Failed to download {file_name}. Status code: {response.status_code}\")"
      ]
    },
    {
      "cell_type": "code",
      "execution_count": 2,
      "metadata": {},
      "outputs": [
        {
          "data": {
            "text/html": [
              "<div>\n",
              "<style scoped>\n",
              "    .dataframe tbody tr th:only-of-type {\n",
              "        vertical-align: middle;\n",
              "    }\n",
              "\n",
              "    .dataframe tbody tr th {\n",
              "        vertical-align: top;\n",
              "    }\n",
              "\n",
              "    .dataframe thead th {\n",
              "        text-align: right;\n",
              "    }\n",
              "</style>\n",
              "<table border=\"1\" class=\"dataframe\">\n",
              "  <thead>\n",
              "    <tr style=\"text-align: right;\">\n",
              "      <th></th>\n",
              "      <th>boot_size</th>\n",
              "      <th>harness_size</th>\n",
              "      <th>sex</th>\n",
              "      <th>age_years</th>\n",
              "    </tr>\n",
              "  </thead>\n",
              "  <tbody>\n",
              "    <tr>\n",
              "      <th>0</th>\n",
              "      <td>39</td>\n",
              "      <td>58</td>\n",
              "      <td>male</td>\n",
              "      <td>12.0</td>\n",
              "    </tr>\n",
              "    <tr>\n",
              "      <th>1</th>\n",
              "      <td>38</td>\n",
              "      <td>58</td>\n",
              "      <td>male</td>\n",
              "      <td>9.6</td>\n",
              "    </tr>\n",
              "    <tr>\n",
              "      <th>2</th>\n",
              "      <td>37</td>\n",
              "      <td>52</td>\n",
              "      <td>female</td>\n",
              "      <td>8.6</td>\n",
              "    </tr>\n",
              "    <tr>\n",
              "      <th>3</th>\n",
              "      <td>39</td>\n",
              "      <td>58</td>\n",
              "      <td>male</td>\n",
              "      <td>10.2</td>\n",
              "    </tr>\n",
              "    <tr>\n",
              "      <th>4</th>\n",
              "      <td>38</td>\n",
              "      <td>57</td>\n",
              "      <td>male</td>\n",
              "      <td>7.8</td>\n",
              "    </tr>\n",
              "  </tbody>\n",
              "</table>\n",
              "</div>"
            ],
            "text/plain": [
              "   boot_size  harness_size     sex  age_years\n",
              "0         39            58    male       12.0\n",
              "1         38            58    male        9.6\n",
              "2         37            52  female        8.6\n",
              "3         39            58    male       10.2\n",
              "4         38            57    male        7.8"
            ]
          },
          "execution_count": 2,
          "metadata": {},
          "output_type": "execute_result"
        }
      ],
      "source": [
        "import pandas\n",
        "# !wget https://raw.githubusercontent.com/MicrosoftDocs/mslearn-introduction-to-machine-learning/main/graphing.py\n",
        "# !wget https://raw.githubusercontent.com/MicrosoftDocs/mslearn-introduction-to-machine-learning/main/Data/doggy-boot-harness.csv\n",
        "\n",
        "# Read the text file containing data using pandas\n",
        "dataset = pandas.read_csv('doggy-boot-harness.csv')\n",
        "\n",
        "# Print the data\n",
        "# Because there are a lot of data, use head() to only print the first few rows\n",
        "dataset.head()"
      ]
    },
    {
      "cell_type": "markdown",
      "metadata": {},
      "source": [
        "As you can see, this dataset contains information about dogs, including their doggy boot size, harness size, sex, and age in years.\n",
        "\n",
        "Data is stored as columns and rows, similar to a table you might see in Excel.\n",
        "\n",
        "## Filter data by Columns\n",
        "\n",
        "Data is easy to filter by columns. We can either type this directly, like `dataset.my_column_name`, or like so: `dataset[\"my_column_name\"]`.\n",
        "\n",
        "We can use this to either extract data, or to delete data.\n",
        "\n",
        "Let's take a look at the harness sizes, and delete the `sex` and `age_years` columns. "
      ]
    },
    {
      "cell_type": "code",
      "execution_count": 3,
      "metadata": {},
      "outputs": [
        {
          "name": "stdout",
          "output_type": "stream",
          "text": [
            "Harness sizes\n",
            "0     58\n",
            "1     58\n",
            "2     52\n",
            "3     58\n",
            "4     57\n",
            "5     52\n",
            "6     55\n",
            "7     53\n",
            "8     49\n",
            "9     54\n",
            "10    59\n",
            "11    56\n",
            "12    53\n",
            "13    58\n",
            "14    57\n",
            "15    58\n",
            "16    56\n",
            "17    51\n",
            "18    50\n",
            "19    59\n",
            "20    59\n",
            "21    59\n",
            "22    55\n",
            "23    50\n",
            "24    55\n",
            "25    52\n",
            "26    53\n",
            "27    54\n",
            "28    61\n",
            "29    56\n",
            "30    55\n",
            "31    60\n",
            "32    57\n",
            "33    56\n",
            "34    61\n",
            "35    58\n",
            "36    53\n",
            "37    57\n",
            "38    57\n",
            "39    55\n",
            "40    60\n",
            "41    51\n",
            "42    52\n",
            "43    56\n",
            "44    55\n",
            "45    57\n",
            "46    58\n",
            "47    57\n",
            "48    51\n",
            "49    59\n",
            "Name: harness_size, dtype: int64\n",
            "\n",
            "Available columns after deleting sex and age information:\n",
            "['boot_size' 'harness_size']\n"
          ]
        }
      ],
      "source": [
        "\n",
        "# Look at the harness sizes\n",
        "print(\"Harness sizes\")\n",
        "print(dataset.harness_size)\n",
        "\n",
        "# Remove the sex and age-in-years columns.\n",
        "del dataset[\"sex\"]\n",
        "del dataset[\"age_years\"]\n",
        "\n",
        "# Print the column names\n",
        "print(\"\\nAvailable columns after deleting sex and age information:\")\n",
        "print(dataset.columns.values)\n"
      ]
    },
    {
      "cell_type": "markdown",
      "metadata": {},
      "source": [
        "\n",
        "## Filter data by Rows\n",
        "\n",
        "We can get data from the top of the table by using the `head()` function, or from the bottom of the table by using the `tail()` function. \n",
        "\n",
        "Both functions make a shallow copy of a section of our dataframe. Here, we're sending these copies to the `print()` function. We can also use the head and tail views for other purposes, such as for use in analyses or graphs."
      ]
    },
    {
      "cell_type": "code",
      "execution_count": 4,
      "metadata": {},
      "outputs": [
        {
          "name": "stdout",
          "output_type": "stream",
          "text": [
            "TOP OF TABLE\n",
            "   boot_size  harness_size\n",
            "0         39            58\n",
            "1         38            58\n",
            "2         37            52\n",
            "3         39            58\n",
            "4         38            57\n",
            "\n",
            "BOTTOM OF TABLE\n",
            "    boot_size  harness_size\n",
            "45         41            57\n",
            "46         39            58\n",
            "47         39            57\n",
            "48         35            51\n",
            "49         39            59\n"
          ]
        }
      ],
      "source": [
        "# Print the data at the top of the table\n",
        "print(\"TOP OF TABLE\")\n",
        "print(dataset.head())\n",
        "\n",
        "# print the data at the bottom of the table\n",
        "print(\"\\nBOTTOM OF TABLE\")\n",
        "print(dataset.tail())"
      ]
    },
    {
      "cell_type": "markdown",
      "metadata": {},
      "source": [
        "We can also filter logically. For example, we can look at data for dogs who have a harness smaller than a size 55.\n",
        "\n",
        "This works by calculating a `True` or `False` value for each row, then keeping only those rows where the value is `True`."
      ]
    },
    {
      "cell_type": "code",
      "execution_count": 5,
      "metadata": {},
      "outputs": [
        {
          "name": "stdout",
          "output_type": "stream",
          "text": [
            "We have 50 rows of data\n",
            "\n",
            "Whether the dog's harness was smaller than size 55:\n",
            "0     False\n",
            "1     False\n",
            "2      True\n",
            "3     False\n",
            "4     False\n",
            "5      True\n",
            "6     False\n",
            "7      True\n",
            "8      True\n",
            "9      True\n",
            "10    False\n",
            "11    False\n",
            "12     True\n",
            "13    False\n",
            "14    False\n",
            "15    False\n",
            "16    False\n",
            "17     True\n",
            "18     True\n",
            "19    False\n",
            "20    False\n",
            "21    False\n",
            "22    False\n",
            "23     True\n",
            "24    False\n",
            "25     True\n",
            "26     True\n",
            "27     True\n",
            "28    False\n",
            "29    False\n",
            "30    False\n",
            "31    False\n",
            "32    False\n",
            "33    False\n",
            "34    False\n",
            "35    False\n",
            "36     True\n",
            "37    False\n",
            "38    False\n",
            "39    False\n",
            "40    False\n",
            "41     True\n",
            "42     True\n",
            "43    False\n",
            "44    False\n",
            "45    False\n",
            "46    False\n",
            "47    False\n",
            "48     True\n",
            "49    False\n",
            "Name: harness_size, dtype: bool\n",
            "\n",
            "Data for dogs with harness smaller than size 55:\n",
            "    boot_size  harness_size\n",
            "2          37            52\n",
            "5          35            52\n",
            "7          36            53\n",
            "8          35            49\n",
            "9          40            54\n",
            "12         38            53\n",
            "17         36            51\n",
            "18         35            50\n",
            "23         35            50\n",
            "25         36            52\n",
            "26         35            53\n",
            "27         39            54\n",
            "36         36            53\n",
            "41         35            51\n",
            "42         36            52\n",
            "48         35            51\n",
            "\n",
            "Number of dogs with harness size less than 55: 16\n"
          ]
        }
      ],
      "source": [
        "# Print how many rows of data we have\n",
        "print(f\"We have {len(dataset)} rows of data\")\n",
        "\n",
        "# Determine whether each avalanche dog's harness size is < 55\n",
        "# This creates a True or False value for each row where True means \n",
        "# they are smaller than 55\n",
        "is_small = dataset.harness_size < 55\n",
        "print(\"\\nWhether the dog's harness was smaller than size 55:\")\n",
        "print(is_small)\n",
        "\n",
        "# Now apply this 'mask' to our data to keep the smaller dogs\n",
        "data_from_small_dogs = dataset[is_small]\n",
        "print(\"\\nData for dogs with harness smaller than size 55:\")\n",
        "print(data_from_small_dogs)\n",
        "\n",
        "# Print the number of small dogs\n",
        "print(f\"\\nNumber of dogs with harness size less than 55: {len(data_from_small_dogs)}\")"
      ]
    },
    {
      "cell_type": "markdown",
      "metadata": {},
      "source": [
        "This looks like a lot of code, but we can compress the important parts into a single line.\n",
        "\n",
        "Let's do something similar: restrict our data to only those with boot sizes smaller than 40. "
      ]
    },
    {
      "cell_type": "code",
      "execution_count": 6,
      "metadata": {},
      "outputs": [
        {
          "name": "stdout",
          "output_type": "stream",
          "text": [
            "We now have 34 rows in our dataset. The last few rows are:\n"
          ]
        },
        {
          "data": {
            "text/html": [
              "<div>\n",
              "<style scoped>\n",
              "    .dataframe tbody tr th:only-of-type {\n",
              "        vertical-align: middle;\n",
              "    }\n",
              "\n",
              "    .dataframe tbody tr th {\n",
              "        vertical-align: top;\n",
              "    }\n",
              "\n",
              "    .dataframe thead th {\n",
              "        text-align: right;\n",
              "    }\n",
              "</style>\n",
              "<table border=\"1\" class=\"dataframe\">\n",
              "  <thead>\n",
              "    <tr style=\"text-align: right;\">\n",
              "      <th></th>\n",
              "      <th>boot_size</th>\n",
              "      <th>harness_size</th>\n",
              "    </tr>\n",
              "  </thead>\n",
              "  <tbody>\n",
              "    <tr>\n",
              "      <th>42</th>\n",
              "      <td>36</td>\n",
              "      <td>52</td>\n",
              "    </tr>\n",
              "    <tr>\n",
              "      <th>46</th>\n",
              "      <td>39</td>\n",
              "      <td>58</td>\n",
              "    </tr>\n",
              "    <tr>\n",
              "      <th>47</th>\n",
              "      <td>39</td>\n",
              "      <td>57</td>\n",
              "    </tr>\n",
              "    <tr>\n",
              "      <th>48</th>\n",
              "      <td>35</td>\n",
              "      <td>51</td>\n",
              "    </tr>\n",
              "    <tr>\n",
              "      <th>49</th>\n",
              "      <td>39</td>\n",
              "      <td>59</td>\n",
              "    </tr>\n",
              "  </tbody>\n",
              "</table>\n",
              "</div>"
            ],
            "text/plain": [
              "    boot_size  harness_size\n",
              "42         36            52\n",
              "46         39            58\n",
              "47         39            57\n",
              "48         35            51\n",
              "49         39            59"
            ]
          },
          "execution_count": 6,
          "metadata": {},
          "output_type": "execute_result"
        }
      ],
      "source": [
        "# Make a copy of the dataset that only contains dogs with \n",
        "# a boot size below size 40\n",
        "# The call to copy() is optional but can help avoid unexpected\n",
        "# behaviour in more complex scenarios\n",
        "data_smaller_paws = dataset[dataset.boot_size < 40].copy()\n",
        "\n",
        "\n",
        "# Print information about this\n",
        "print(f\"We now have {len(data_smaller_paws)} rows in our dataset. The last few rows are:\")\n",
        "data_smaller_paws.tail()"
      ]
    },
    {
      "cell_type": "markdown",
      "metadata": {},
      "source": [
        "## Graph Data\n",
        "\n",
        "Graphing your data is often the easiest way to understand it. \n",
        "\n",
        "Lets make a simple graph of _harness size_ versus _boot size_ for our avalanche dogs with smaller feet. "
      ]
    },
    {
      "cell_type": "code",
      "execution_count": 7,
      "metadata": {},
      "outputs": [
        {
          "data": {
            "text/plain": [
              "Text(0, 0.5, 'boot_size')"
            ]
          },
          "execution_count": 7,
          "metadata": {},
          "output_type": "execute_result"
        },
        {
          "data": {
            "image/png": "[encoded data removed]",
            "text/plain": [
              "<Figure size 640x480 with 1 Axes>"
            ]
          },
          "metadata": {},
          "output_type": "display_data"
        }
      ],
      "source": [
        "# Load and prepare matplotlib to use for plotting graphs\n",
        "import matplotlib.pyplot as plt\n",
        "\n",
        "\n",
        "# Show a graph of harness size by boot size:\n",
        "plt.scatter(data_smaller_paws[\"harness_size\"], data_smaller_paws[\"boot_size\"])\n",
        "\n",
        "# add labels\n",
        "plt.xlabel(\"harness_size\")\n",
        "plt.ylabel(\"boot_size\")"
      ]
    },
    {
      "cell_type": "markdown",
      "metadata": {},
      "source": [
        "## Create New Columns\n",
        "\n",
        "The preceding graph shows the relationship we want to investigate for our store, but some customers might want harness-size lists in inches, not centimeters. How can we view these harness sizes in imperial units?\n",
        "\n",
        "To do this, we need to create a new column called `harness_size_imperial` and put that on the X axis instead.\n",
        "\n",
        "Creating new columns uses very similar syntax to what we've seen before."
      ]
    },
    {
      "cell_type": "code",
      "execution_count": 8,
      "metadata": {},
      "outputs": [
        {
          "data": {
            "text/plain": [
              "Text(0, 0.5, 'boot_size')"
            ]
          },
          "execution_count": 8,
          "metadata": {},
          "output_type": "execute_result"
        },
        {
          "data": {
            "image/png": "[encoded data removed]",
            "text/plain": [
              "<Figure size 640x480 with 1 Axes>"
            ]
          },
          "metadata": {},
          "output_type": "display_data"
        }
      ],
      "source": [
        "# Convert harness sizes from metric to imperial units \n",
        "# and save the result to a new column\n",
        "data_smaller_paws['harness_size_imperial'] = data_smaller_paws.harness_size / 2.54\n",
        "\n",
        "# Show a graph of harness size in imperial units\n",
        "plt.scatter(data_smaller_paws[\"harness_size_imperial\"], data_smaller_paws[\"boot_size\"])\n",
        "plt.xlabel(\"harness_size_imperial\")\n",
        "plt.ylabel(\"boot_size\")"
      ]
    },
    {
      "cell_type": "markdown",
      "metadata": {},
      "source": [
        "We've now graphed our new column of data (`harness_size_imperial`) against boot size for dogs with small paws.\n",
        "\n",
        "## Summary\n",
        "\n",
        "We've introduced working with data in Python, including:\n",
        "\n",
        "* Opening data from a file into a `DataFrame` (table).\n",
        "* Inspecting the top and bottom of the dataframe.\n",
        "* Adding and removing columns of data.\n",
        "* Removing rows of data based on certain criteria.\n",
        "* Graphing data to understand trends.\n",
        "\n",
        "Learning to work with dataframes can feel tedious or dry, but keep going, because these basic skills are critical to unlocking the exciting machine-learning techniques that we cover in later modules."
      ]
    }
  ],
  "metadata": {
    "kernel_info": {
      "name": "conda-env-azureml_py38-py"
    },
    "kernelspec": {
      "display_name": ".venv",
      "language": "python",
      "name": "python3"
    },
    "language_info": {
      "codemirror_mode": {
        "name": "ipython",
        "version": 3
      },
      "file_extension": ".py",
      "mimetype": "text/x-python",
      "name": "python",
      "nbconvert_exporter": "python",
      "pygments_lexer": "ipython3",
      "version": "3.12.8"
    },
    "nteract": {
      "version": "nteract-front-end@1.0.0"
    }
  },
  "nbformat": 4,
  "nbformat_minor": 2
}
